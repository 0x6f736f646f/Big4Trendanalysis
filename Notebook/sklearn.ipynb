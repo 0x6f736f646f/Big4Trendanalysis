{
 "cells": [
  {
   "cell_type": "code",
   "execution_count": 6,
   "metadata": {},
   "outputs": [],
   "source": [
    "import sklearn\n",
    "import pandas as pd\n",
    "from sklearn.model_selection import GridSearchCV, train_test_split, KFold\n",
    "from sklearn.linear_model import LogisticRegression\n",
    "from sklearn.ensemble import AdaBoostClassifier, GradientBoostingClassifier, RandomForestClassifier\n",
    "from sklearn.neighbors import KNeighborsClassifier\n",
    "from sklearn.svm import LinearSVC, NuSVC, SVC\n",
    "from sklearn.tree import DecisionTreeClassifier, ExtraTreeClassifier\n",
    "from sklearn.naive_bayes import BernoulliNB, GaussianNB, MultinomialNB\n",
    "from sklearn import metrics\n",
    "from sklearn.utils import shuffle\n",
    "from matplotlib import pyplot as plt\n",
    "import numpy as np\n",
    "import itertools\n",
    "from sklearn.preprocessing import Normalizer\n",
    "#import xgboost\n",
    "import random\n",
    "from sklearn.feature_extraction.text import TfidfVectorizer\n",
    "\n"
   ]
  },
  {
   "cell_type": "code",
   "execution_count": 7,
   "metadata": {},
   "outputs": [
    {
     "data": {
      "text/plain": [
       "Index(['Unnamed: 0', 'target', 'tweets'], dtype='object')"
      ]
     },
     "execution_count": 7,
     "metadata": {},
     "output_type": "execute_result"
    }
   ],
   "source": [
    "data = pd.read_csv(\"../Data/train_data.csv\")\n",
    "data.columns"
   ]
  },
  {
   "cell_type": "code",
   "execution_count": 8,
   "metadata": {},
   "outputs": [
    {
     "data": {
      "text/plain": [
       "False    1579422\n",
       "True       20577\n",
       "Name: tweets, dtype: int64"
      ]
     },
     "execution_count": 8,
     "metadata": {},
     "output_type": "execute_result"
    }
   ],
   "source": [
    "data.tweets.isnull().value_counts()"
   ]
  },
  {
   "cell_type": "code",
   "execution_count": 9,
   "metadata": {},
   "outputs": [],
   "source": [
    "data.dropna(axis=0, inplace=True)"
   ]
  },
  {
   "cell_type": "code",
   "execution_count": 10,
   "metadata": {},
   "outputs": [
    {
     "data": {
      "text/plain": [
       "(1579422, 3)"
      ]
     },
     "execution_count": 10,
     "metadata": {},
     "output_type": "execute_result"
    }
   ],
   "source": [
    "data.shape"
   ]
  },
  {
   "cell_type": "code",
   "execution_count": 11,
   "metadata": {},
   "outputs": [
    {
     "name": "stdout",
     "output_type": "stream",
     "text": [
      "(1579422, 1)\n",
      "(1579422,)\n"
     ]
    }
   ],
   "source": [
    "target = data['target']\n",
    "data = data.drop(columns=[\"target\", 'Unnamed: 0'], axis=1)\n",
    "print(\"{}\\n{}\".format(data.shape, target.shape))"
   ]
  },
  {
   "cell_type": "code",
   "execution_count": 12,
   "metadata": {},
   "outputs": [
    {
     "name": "stdout",
     "output_type": "stream",
     "text": [
      "(1579422, 218659)\n"
     ]
    }
   ],
   "source": [
    "vectorizer = TfidfVectorizer()\n",
    "tweets = vectorizer.fit_transform(data[\"tweets\"])\n",
    "#print(vectorizer.get_feature_names())\n",
    "print(tweets.shape)"
   ]
  },
  {
   "cell_type": "code",
   "execution_count": 13,
   "metadata": {},
   "outputs": [],
   "source": [
    "x_train, x_test, y_train, y_test = train_test_split(tweets, target, test_size=0.333, random_state=42)"
   ]
  },
  {
   "cell_type": "code",
   "execution_count": 14,
   "metadata": {},
   "outputs": [
    {
     "data": {
      "text/plain": [
       "'\\nTest_accuracy = []\\nTrain_accuracy = []\\nfor i in range(1, 10):\\n    neigh = KNeighborsClassifier(n_neighbors=i)\\n    neigh.fit(x_train, y_train)\\n    y_hat = neigh.predict(x_test)\\n    Test_accuracy.append(metrics.accuracy_score(y_train, neigh.predict(x_train)))\\n    Train_accuracy.append(metrics.accuracy_score(y_test, y_hat))\\nplt.plot(Test_accuracy, color=\"r\")\\nplt.plot(Train_accuracy, color=\"c\")\\n'"
      ]
     },
     "execution_count": 14,
     "metadata": {},
     "output_type": "execute_result"
    }
   ],
   "source": [
    "'''\n",
    "Test_accuracy = []\n",
    "Train_accuracy = []\n",
    "for i in range(1, 10):\n",
    "    neigh = KNeighborsClassifier(n_neighbors=i)\n",
    "    neigh.fit(x_train, y_train)\n",
    "    y_hat = neigh.predict(x_test)\n",
    "    Test_accuracy.append(metrics.accuracy_score(y_train, neigh.predict(x_train)))\n",
    "    Train_accuracy.append(metrics.accuracy_score(y_test, y_hat))\n",
    "plt.plot(Test_accuracy, color=\"r\")\n",
    "plt.plot(Train_accuracy, color=\"c\")\n",
    "'''"
   ]
  },
  {
   "cell_type": "code",
   "execution_count": 15,
   "metadata": {},
   "outputs": [
    {
     "name": "stderr",
     "output_type": "stream",
     "text": [
      "C:\\Users\\0x6f736f646f\\AppData\\Local\\Programs\\Python\\Python37\\lib\\site-packages\\sklearn\\linear_model\\logistic.py:433: FutureWarning: Default solver will be changed to 'lbfgs' in 0.22. Specify a solver to silence this warning.\n",
      "  FutureWarning)\n"
     ]
    },
    {
     "name": "stdout",
     "output_type": "stream",
     "text": [
      "LogisticRegression\n",
      "Train set Accuracy:  0.7891253130119965\n",
      "Test set Accuracy:  0.7667982386091401\n"
     ]
    }
   ],
   "source": [
    "LR = LogisticRegression()\n",
    "LR.fit(x_train,y_train)\n",
    "yhat = LR.predict(x_test)\n",
    "print(\"LogisticRegression\")\n",
    "print(\"Train set Accuracy: \", metrics.accuracy_score(y_train, LR.predict(x_train)))\n",
    "print(\"Test set Accuracy: \", metrics.accuracy_score(y_test, yhat))\n"
   ]
  },
  {
   "cell_type": "code",
   "execution_count": 16,
   "metadata": {},
   "outputs": [
    {
     "name": "stdout",
     "output_type": "stream",
     "text": [
      "BernoulliNB\n",
      "Train set Accuracy:  0.7860488251252523\n",
      "Test set Accuracy:  0.7584457018564573\n"
     ]
    }
   ],
   "source": [
    "BNB = BernoulliNB()\n",
    "BNB.fit(x_train,y_train)\n",
    "yhat = BNB.predict(x_test)\n",
    "print(\"BernoulliNB\")\n",
    "print(\"Train set Accuracy: \", metrics.accuracy_score(y_train, BNB.predict(x_train)))\n",
    "print(\"Test set Accuracy: \", metrics.accuracy_score(y_test, yhat))\n"
   ]
  },
  {
   "cell_type": "code",
   "execution_count": 17,
   "metadata": {},
   "outputs": [
    {
     "name": "stdout",
     "output_type": "stream",
     "text": [
      "MultinomialNB\n",
      "Train set Accuracy:  0.786088693218817\n",
      "Test set Accuracy:  0.7520705468981724\n"
     ]
    }
   ],
   "source": [
    "MNB = MultinomialNB()\n",
    "MNB.fit(x_train,y_train)\n",
    "yhat = MNB.predict(x_test)\n",
    "print(\"MultinomialNB\")\n",
    "print(\"Train set Accuracy: \", metrics.accuracy_score(y_train, MNB.predict(x_train)))\n",
    "print(\"Test set Accuracy: \", metrics.accuracy_score(y_test, yhat))\n"
   ]
  },
  {
   "cell_type": "code",
   "execution_count": 18,
   "metadata": {},
   "outputs": [
    {
     "data": {
      "text/plain": [
       "'\\nGNB = GaussianNB()\\nGNB.fit(x_train,y_train)\\nyhat = GNB.predict(x_test)\\nprint(\" GaussianNB\")\\nprint(\"Train set Accuracy: \", metrics.accuracy_score(y_train, GNB.predict(x_train)))\\nprint(\"Test set Accuracy: \", metrics.accuracy_score(y_test, yhat))\\n'"
      ]
     },
     "execution_count": 18,
     "metadata": {},
     "output_type": "execute_result"
    }
   ],
   "source": [
    "'''\n",
    "GNB = GaussianNB()\n",
    "GNB.fit(x_train,y_train)\n",
    "yhat = GNB.predict(x_test)\n",
    "print(\" GaussianNB\")\n",
    "print(\"Train set Accuracy: \", metrics.accuracy_score(y_train, GNB.predict(x_train)))\n",
    "print(\"Test set Accuracy: \", metrics.accuracy_score(y_test, yhat))\n",
    "'''"
   ]
  },
  {
   "cell_type": "code",
   "execution_count": 19,
   "metadata": {},
   "outputs": [
    {
     "data": {
      "text/plain": [
       "'LSVC = LinearSVC()\\nLSVC.fit(x_train,y_train)\\nyhat = LSVC.predict(x_test)\\nprint(\"LinearSVC\")\\nprint(\"Train set Accuracy: \", metrics.accuracy_score(y_train, LSVC.predict(x_train)))\\nprint(\"Test set Accuracy: \", metrics.accuracy_score(y_test, yhat))\\n'"
      ]
     },
     "execution_count": 19,
     "metadata": {},
     "output_type": "execute_result"
    }
   ],
   "source": [
    "\"\"\"LSVC = LinearSVC()\n",
    "LSVC.fit(x_train,y_train)\n",
    "yhat = LSVC.predict(x_test)\n",
    "print(\"LinearSVC\")\n",
    "print(\"Train set Accuracy: \", metrics.accuracy_score(y_train, LSVC.predict(x_train)))\n",
    "print(\"Test set Accuracy: \", metrics.accuracy_score(y_test, yhat))\n",
    "\"\"\""
   ]
  },
  {
   "cell_type": "code",
   "execution_count": 20,
   "metadata": {},
   "outputs": [
    {
     "data": {
      "text/plain": [
       "'PSVC = SVC()\\nPSVC.fit(x_train,y_train)\\nyhat = PSVC.predict(x_test)\\nprint(\"SVC\")\\nprint(\"Train set Accuracy: \", metrics.accuracy_score(y_train, PSVC.predict(x_train)))\\nprint(\"Test set Accuracy: \", metrics.accuracy_score(y_test, yhat))\\n'"
      ]
     },
     "execution_count": 20,
     "metadata": {},
     "output_type": "execute_result"
    }
   ],
   "source": [
    "\"\"\"PSVC = SVC()\n",
    "PSVC.fit(x_train,y_train)\n",
    "yhat = PSVC.predict(x_test)\n",
    "print(\"SVC\")\n",
    "print(\"Train set Accuracy: \", metrics.accuracy_score(y_train, PSVC.predict(x_train)))\n",
    "print(\"Test set Accuracy: \", metrics.accuracy_score(y_test, yhat))\n",
    "\"\"\""
   ]
  },
  {
   "cell_type": "code",
   "execution_count": null,
   "metadata": {},
   "outputs": [],
   "source": []
  },
  {
   "cell_type": "code",
   "execution_count": null,
   "metadata": {},
   "outputs": [
    {
     "name": "stderr",
     "output_type": "stream",
     "text": [
      "C:\\Users\\0x6f736f646f\\AppData\\Local\\Programs\\Python\\Python37\\lib\\site-packages\\sklearn\\ensemble\\forest.py:246: FutureWarning: The default value of n_estimators will change from 10 in version 0.20 to 100 in 0.22.\n",
      "  \"10 in version 0.20 to 100 in 0.22.\", FutureWarning)\n"
     ]
    }
   ],
   "source": [
    "RForest = RandomForestClassifier()\n",
    "RForest.fit(x_train, y_train)\n",
    "yhat = RForest.predict(x_test)\n",
    "print(\"RandomForestClassifier\")\n",
    "print(\"Train set Accuracy: \", metrics.accuracy_score(y_train, RForest.predict(x_train)))\n",
    "print(\"Test set Accuracy: \", metrics.accuracy_score(y_test, yhat))\n"
   ]
  },
  {
   "cell_type": "code",
   "execution_count": null,
   "metadata": {},
   "outputs": [],
   "source": [
    "DTree = DecisionTreeClassifier(max_depth=3)\n",
    "DTree.fit(x_train, y_train)\n",
    "yhat = DTree.predict(x_test)\n",
    "print(\"DecisionTreeClassifier\")\n",
    "print(\"Train set Accuracy: \", metrics.accuracy_score(y_train, DTree.predict(x_train)))\n",
    "print(\"Test set Accuracy: \", metrics.accuracy_score(y_test, yhat))\n"
   ]
  },
  {
   "cell_type": "code",
   "execution_count": null,
   "metadata": {},
   "outputs": [],
   "source": [
    "ETree = ExtraTreeClassifier(max_depth=3)\n",
    "ETree.fit(x_train, y_train)\n",
    "yhat = ETree.predict(x_test)\n",
    "print(\"ExtraTreeClassifier\")\n",
    "print(\"Train set Accuracy: \", metrics.accuracy_score(y_train, ETree.predict(x_train)))\n",
    "print(\"Test set Accuracy: \", metrics.accuracy_score(y_test, yhat))\n"
   ]
  },
  {
   "cell_type": "code",
   "execution_count": null,
   "metadata": {},
   "outputs": [],
   "source": [
    "Ada = AdaBoostClassifier()\n",
    "Ada.fit(x_train, y_train)\n",
    "yhat = Ada.predict(x_test)\n",
    "print(\"AdaBoostClassifier\")\n",
    "print(\"Train set Accuracy: \", metrics.accuracy_score(y_train, Ada.predict(x_train)))\n",
    "print(\"Test set Accuracy: \", metrics.accuracy_score(y_test, yhat))\n"
   ]
  },
  {
   "cell_type": "code",
   "execution_count": null,
   "metadata": {},
   "outputs": [],
   "source": [
    "xgb = xgboost.XGBClassifier()\n",
    "xgb.fit(x_train, y_train)\n",
    "yhat = xgb.predict(x_test)\n",
    "print(\"xgboost\")\n",
    "print(\"Train set Accuracy: \", metrics.accuracy_score(y_train, xgb.predict(x_train)))\n",
    "print(\"Test set Accuracy: \", metrics.accuracy_score(y_test, yhat))\n"
   ]
  },
  {
   "cell_type": "code",
   "execution_count": null,
   "metadata": {},
   "outputs": [],
   "source": [
    "Gboost = GradientBoostingClassifier()\n",
    "Gboost.fit(x_train, y_train)\n",
    "yhat = Gboost.predict(x_test)\n",
    "print(\"GradientBoostingClassifier\")\n",
    "print(\"Train set Accuracy: \", metrics.accuracy_score(y_train, Gboost.predict(x_train)))\n",
    "print(\"Test set Accuracy: \", metrics.accuracy_score(y_test, yhat))"
   ]
  },
  {
   "cell_type": "code",
   "execution_count": null,
   "metadata": {},
   "outputs": [],
   "source": []
  }
 ],
 "metadata": {
  "kernelspec": {
   "display_name": "Python 3",
   "language": "python",
   "name": "python3"
  },
  "language_info": {
   "codemirror_mode": {
    "name": "ipython",
    "version": 3
   },
   "file_extension": ".py",
   "mimetype": "text/x-python",
   "name": "python",
   "nbconvert_exporter": "python",
   "pygments_lexer": "ipython3",
   "version": "3.7.0"
  }
 },
 "nbformat": 4,
 "nbformat_minor": 2
}
